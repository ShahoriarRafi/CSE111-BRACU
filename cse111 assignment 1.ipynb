{
 "cells": [
  {
   "cell_type": "markdown",
   "metadata": {},
   "source": [
    "**String**\n"
   ]
  },
  {
   "cell_type": "code",
   "execution_count": 25,
   "metadata": {},
   "outputs": [
    {
     "name": "stdout",
     "output_type": "stream",
     "text": [
      "glad\n"
     ]
    }
   ],
   "source": [
    "d=\"baNgladEsh\"\n",
    "lis_1=[]\n",
    "for i in range(len(d)):\n",
    "    balt=ord(d[i])\n",
    "    if 65<=balt<=90:\n",
    "        lis_1.append(i)\n",
    "start=lis_1[0]+1\n",
    "end=lis_1[1]\n",
    "print(d[start:end])"
   ]
  },
  {
   "cell_type": "code",
   "execution_count": null,
   "metadata": {},
   "outputs": [],
   "source": []
  },
  {
   "cell_type": "code",
   "execution_count": 3,
   "metadata": {},
   "outputs": [
    {
     "name": "stdout",
     "output_type": "stream",
     "text": [
      "HOUSE\n"
     ]
    }
   ],
   "source": [
    "#1\n",
    "str_1 = \"HOusE\"\n",
    "up = 0\n",
    "low = 0\n",
    "\n",
    "for i in str_1:\n",
    "    if i.islower():\n",
    "        low += 1\n",
    "    else:\n",
    "        up += 1\n",
    "\n",
    "if up > low:\n",
    "    print(str_1.upper())\n",
    "else:\n",
    "    print(str_1.lower())"
   ]
  },
  {
   "cell_type": "code",
   "execution_count": 4,
   "metadata": {},
   "outputs": [
    {
     "name": "stdout",
     "output_type": "stream",
     "text": [
      "NUMBER\n"
     ]
    }
   ],
   "source": [
    "#2\n",
    "str_1 = \"2\"\n",
    "nums = False\n",
    "words = False\n",
    "\n",
    "for i in range(48,58):\n",
    "\n",
    "    if chr(i) in str_1:\n",
    "        nums = True\n",
    "        break\n",
    "\n",
    "for i in range(65,91):\n",
    "    \n",
    "    if chr(i) in str_1:\n",
    "        words = True\n",
    "        break\n",
    "\n",
    "    if chr(i+32) in str_1:\n",
    "        words = True\n",
    "        break\n",
    "\n",
    "if nums and words:\n",
    "    print(\"MIXED\")\n",
    "\n",
    "elif nums:\n",
    "    print(\"NUMBER\")\n",
    "\n",
    "elif words:\n",
    "    print(\"WORD\")"
   ]
  },
  {
   "cell_type": "code",
   "execution_count": 5,
   "metadata": {},
   "outputs": [
    {
     "name": "stdout",
     "output_type": "stream",
     "text": [
      "Number\n"
     ]
    }
   ],
   "source": [
    "#2\n",
    "str_1 = \"2\"\n",
    "nums = False\n",
    "words = False\n",
    "if str_1.isnumeric():\n",
    "    print(\"Number\")\n",
    "\n",
    "elif str_1.isalpha():\n",
    "    print(\"Word\")\n",
    "\n",
    "else:\n",
    "    print(\"Mixed\")\n"
   ]
  },
  {
   "cell_type": "code",
   "execution_count": 39,
   "metadata": {},
   "outputs": [
    {
     "name": "stdout",
     "output_type": "stream",
     "text": [
      "glad\n"
     ]
    }
   ],
   "source": [
    "#3\n",
    "str_1 = \"banNgladEsh\"\n",
    "\n",
    "switch = False\n",
    "sub = \"\"\n",
    "\n",
    "for i in str_1:\n",
    "    if 65 <= ord(i) <= 90:\n",
    "        switch = not switch\n",
    "    if switch:\n",
    "        sub += i\n",
    "\n",
    "if switch or len(sub) == 1:\n",
    "    print(\"BLANK\")\n",
    "else:\n",
    "    print(sub[1:])\n",
    "\n"
   ]
  },
  {
   "cell_type": "code",
   "execution_count": 7,
   "metadata": {},
   "outputs": [
    {
     "name": "stdout",
     "output_type": "stream",
     "text": [
      "hrrhr\n"
     ]
    }
   ],
   "source": [
    "#4\n",
    "str_1 = \"harry\"\n",
    "str_2 = \"hermione\"\n",
    "\n",
    "sub = \"\"\n",
    "\n",
    "for i in str_1:\n",
    "    if i in str_2:\n",
    "        sub += i\n",
    "\n",
    "for i in str_2:\n",
    "    if i in str_1:\n",
    "        sub += i\n",
    "\n",
    "if len(sub) == 0:\n",
    "    print(\"Nothing in common\")\n",
    "else:\n",
    "    print(sub)\n"
   ]
  },
  {
   "cell_type": "code",
   "execution_count": 8,
   "metadata": {},
   "outputs": [
    {
     "name": "stdout",
     "output_type": "stream",
     "text": [
      "OK\n"
     ]
    }
   ],
   "source": [
    "#5\n",
    "\n",
    "password = \"Abul@1\"\n",
    "\n",
    "lower = False\n",
    "upper = False\n",
    "nums = False\n",
    "char = False\n",
    "\n",
    "for i in password:\n",
    "    if i.islower():\n",
    "        lower = True\n",
    "\n",
    "    elif i.isupper():\n",
    "        upper = True\n",
    "\n",
    "    elif i.isdigit():\n",
    "        nums = True\n",
    "\n",
    "    else:\n",
    "        char = True\n",
    "\n",
    "if lower == False:\n",
    "    print(\"Lowercase missing\")\n",
    "\n",
    "if upper == False:\n",
    "    print(\"Uppercase missing\")\n",
    "\n",
    "if nums == False:\n",
    "    print(\"Digit missing\")\n",
    "\n",
    "if char == False:\n",
    "    print(\"Special characters missing\")\n",
    "\n",
    "if lower and upper and nums and char:\n",
    "    print(\"OK\")"
   ]
  },
  {
   "cell_type": "code",
   "execution_count": 63,
   "metadata": {},
   "outputs": [
    {
     "name": "stdout",
     "output_type": "stream",
     "text": [
      "[6, 9, 18, 8, 12, 24, 10, 15, 30]\n"
     ]
    }
   ],
   "source": [
    "s=input()\n",
    "d=input()\n",
    "faka_lis=[]\n",
    "f=s.split()\n",
    "g=d.split()\n",
    "for i in f:\n",
    "    i=int(i)\n",
    "    for j in g:\n",
    "        j=int(j)\n",
    "        c=(i*j)\n",
    "        faka_lis.append(c)\n",
    "print(faka_lis)\n",
    "    \n",
    "    \n",
    "    "
   ]
  },
  {
   "cell_type": "markdown",
   "metadata": {},
   "source": [
    "**List**"
   ]
  },
  {
   "cell_type": "code",
   "execution_count": 14,
   "metadata": {},
   "outputs": [
    {
     "name": "stdout",
     "output_type": "stream",
     "text": [
      "1 - 2\n",
      "2 - 2\n"
     ]
    }
   ],
   "source": [
    "#1\n",
    "lis_1 = []\n",
    "while True:\n",
    "    \n",
    "    num = input(\"\")\n",
    "    if num == \"STOP\":\n",
    "        break\n",
    "    lis_1.append(num)\n",
    "\n",
    "lis_2 = []\n",
    "for i in lis_1:\n",
    "    \n",
    "    if i not in lis_2:\n",
    "        print(f\"{i} - {lis_1.count(i)}\")\n",
    "    lis_2.append(i)"
   ]
  },
  {
   "cell_type": "code",
   "execution_count": 47,
   "metadata": {},
   "outputs": [
    {
     "name": "stdout",
     "output_type": "stream",
     "text": [
      "15\n",
      "[4, 5, 6]\n"
     ]
    }
   ],
   "source": [
    "#2\n",
    "n= int(input(\"N:\"))\n",
    "counter = 0\n",
    "lis_2 = []\n",
    "while n > counter:\n",
    "\n",
    "    lis_1 = input(\"\")\n",
    "    lis_1 = lis_1.split(\" \")\n",
    "    lis_1 = list(map(int, lis_1))    \n",
    "    lis_2.append(lis_1)\n",
    "\n",
    "    counter += 1\n",
    "\n",
    "\n",
    "summation = sum(lis_2[0])\n",
    "max_list = []\n",
    "\n",
    "for i in lis_2:\n",
    "\n",
    "    t = sum(i)\n",
    "    \n",
    "    if summation <= t:\n",
    "        summation = t\n",
    "        max_list = i\n",
    "print(summation)\n",
    "print(max_list)"
   ]
  },
  {
   "cell_type": "code",
   "execution_count": 39,
   "metadata": {},
   "outputs": [
    {
     "name": "stdout",
     "output_type": "stream",
     "text": [
      "1\n"
     ]
    }
   ],
   "source": [
    "#4\n",
    "nk = input()\n",
    "participation = input()\n",
    "\n",
    "nk = nk.split(\" \")\n",
    "nk = list(map(int, nk))\n",
    "\n",
    "participation = participation.split(\" \")\n",
    "participation = list(map(int, participation))\n",
    "\n",
    "n = nk[0]\n",
    "k = nk[1]\n",
    "\n",
    "eligible = 0\n",
    "\n",
    "for i in participation:\n",
    "    if k <= 5 - i:\n",
    "        eligible += 1\n",
    "\n",
    "print(eligible//3)"
   ]
  },
  {
   "cell_type": "code",
   "execution_count": null,
   "metadata": {},
   "outputs": [],
   "source": [
    "#3\n",
    "while True:\n",
    "    lis_1 = input()\n",
    "\n",
    "    if lis_1 ==\"STOP\":\n",
    "        break\n",
    "\n",
    "    lis_1 = lis_1.split(\" \")\n",
    "    lis_1 = list(map(int, lis_1))\n",
    "    size = len(lis_1)\n",
    "    ans = \"UB jumper\"\n",
    "    for i in range(1,size):\n",
    "        diff = lis_1[i] - lis_1[i-1]\n",
    "        if diff > size - 1:\n",
    "            ans = \"Not UB jumper\"\n",
    "            break\n",
    "    print(ans)\n"
   ]
  },
  {
   "cell_type": "code",
   "execution_count": null,
   "metadata": {},
   "outputs": [],
   "source": []
  },
  {
   "cell_type": "code",
   "execution_count": 47,
   "metadata": {},
   "outputs": [
    {
     "name": "stdout",
     "output_type": "stream",
     "text": [
      "20-3 Times\n"
     ]
    }
   ],
   "source": [
    "f=[]\n",
    "o=[]\n",
    "while True:\n",
    "    n=input()\n",
    "    if n==\"STOP\":\n",
    "        break\n",
    "    else:\n",
    "        f.append(n)\n",
    "for i in f:\n",
    "    g=f.count(i)\n",
    "    if i not in o:\n",
    "        o.append(i)\n",
    "\n",
    "        print(f\"{i}-{g} Times\")\n",
    "\n",
    "\n"
   ]
  },
  {
   "cell_type": "code",
   "execution_count": 49,
   "metadata": {},
   "outputs": [
    {
     "name": "stdout",
     "output_type": "stream",
     "text": [
      "[4, 5, 7]\n",
      "16\n"
     ]
    }
   ],
   "source": [
    "n=int(input())\n",
    "f=[]\n",
    "for i in range(n):\n",
    "    k=[]\n",
    "    d=input()\n",
    "    s=d.split(\" \")\n",
    "    for j in s:\n",
    "        j=int(j)\n",
    "        k.append(j)\n",
    "    f.append(k)\n",
    "maxx=sum(f[0])\n",
    "maxx_index=0\n",
    "for i in range(len(f)):\n",
    "    total=sum(f[i])\n",
    "    if total>maxx:\n",
    "        maxx=total\n",
    "        maxx_index=i\n",
    "print(f[maxx_index])\n",
    "print(maxx)\n",
    "\n",
    "    \n",
    "\n",
    "\n",
    "\n",
    "\n"
   ]
  },
  {
   "cell_type": "code",
   "execution_count": 73,
   "metadata": {},
   "outputs": [
    {
     "name": "stdout",
     "output_type": "stream",
     "text": [
      "20-2times\n"
     ]
    }
   ],
   "source": [
    "numbers = {}\n",
    "while True:\n",
    "    user_input = input()\n",
    "    if user_input == 'STOP':\n",
    "        break\n",
    "    if user_input.isdigit():\n",
    "        if user_input in numbers:\n",
    "            numbers[user_input] += 1\n",
    "        else:\n",
    "            numbers[user_input] = 1\n",
    "\n",
    "for number, times in numbers.items():\n",
    "    print(f\"{number} - {times} times\")\n"
   ]
  }
 ],
 "metadata": {
  "interpreter": {
   "hash": "aee8b7b246df8f9039afb4144a1f6fd8d2ca17a180786b69acc140d282b71a49"
  },
  "kernelspec": {
   "display_name": "Python 3.11.0a5 64-bit",
   "language": "python",
   "name": "python3"
  },
  "language_info": {
   "codemirror_mode": {
    "name": "ipython",
    "version": 3
   },
   "file_extension": ".py",
   "mimetype": "text/x-python",
   "name": "python",
   "nbconvert_exporter": "python",
   "pygments_lexer": "ipython3",
   "version": "3.11.0a5"
  },
  "orig_nbformat": 4
 },
 "nbformat": 4,
 "nbformat_minor": 2
}
